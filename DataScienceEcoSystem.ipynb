{
 "cells": [
  {
   "cell_type": "markdown",
   "id": "56d9d627",
   "metadata": {},
   "source": [
    "<h1>Data Science Tools and Ecosystem"
   ]
  },
  {
   "cell_type": "markdown",
   "id": "950aafc3",
   "metadata": {},
   "source": [
    "In this notebook, Data Science Tools and Ecosystem are summarized."
   ]
  },
  {
   "cell_type": "markdown",
   "id": "098775d0",
   "metadata": {},
   "source": [
    "Some of the popular languages that Data Scientists use are\n",
    "1. Python\n",
    "2. R\n",
    "3. Julia"
   ]
  },
  {
   "cell_type": "markdown",
   "id": "8b8748d6",
   "metadata": {},
   "source": [
    "Some of the commonly used libraries used by Data Scientists include:\n",
    "1. Pandas\n",
    "2. NumPy\n",
    "3. Scipy\n",
    "4. Plotly\n",
    "5. TensorFlow"
   ]
  },
  {
   "cell_type": "markdown",
   "id": "6d581f1a",
   "metadata": {},
   "source": [
    "|Data Science Tools|\n",
    "----------------------------\n",
    "|RStudio|\n",
    "|Apache Spark|\n",
    "|TensorFlow|"
   ]
  },
  {
   "cell_type": "markdown",
   "id": "759a6146",
   "metadata": {},
   "source": [
    "<h3> Below are a few examples of evaluating arithmetic expressions in python"
   ]
  },
  {
   "cell_type": "code",
   "execution_count": 3,
   "id": "6049575a",
   "metadata": {},
   "outputs": [
    {
     "name": "stdout",
     "output_type": "stream",
     "text": [
      "17\n"
     ]
    }
   ],
   "source": [
    "#This is a simple arithmetic expression to multiply then add integers\n",
    "x=(3*4)+5\n",
    "print(x)"
   ]
  },
  {
   "cell_type": "code",
   "execution_count": 4,
   "id": "a9a54733",
   "metadata": {},
   "outputs": [
    {
     "name": "stdout",
     "output_type": "stream",
     "text": [
      "3.3333333333333335\n"
     ]
    }
   ],
   "source": [
    "#This will convert 200 minutes to hours by dividing by 60\n",
    "minutes=200\n",
    "hours=(minutes/60)\n",
    "print(hours)"
   ]
  },
  {
   "cell_type": "markdown",
   "id": "1d1a3300",
   "metadata": {},
   "source": [
    "<b> Objectives:\n",
    "    \n",
    "    In this assignment, I learned:\n",
    "    * Few popular languages used by data scientists\n",
    "    * Few open source tools used by data scientists\n",
    "    * Few commonly used libraries by data scientists\n",
    "    * Running simple arithmetic operation\n",
    "    * To create tables and change fonts in markdown area \n",
    "    \n",
    "    "
   ]
  },
  {
   "cell_type": "markdown",
   "id": "46bd98c4",
   "metadata": {},
   "source": [
    "<h2>Author\n"
   ]
  },
  {
   "cell_type": "markdown",
   "id": "3f461da1",
   "metadata": {},
   "source": [
    "Sourabh Ghodake"
   ]
  },
  {
   "cell_type": "code",
   "execution_count": null,
   "id": "35e22a2a",
   "metadata": {},
   "outputs": [],
   "source": []
  }
 ],
 "metadata": {
  "kernelspec": {
   "display_name": "Python 3 (ipykernel)",
   "language": "python",
   "name": "python3"
  },
  "language_info": {
   "codemirror_mode": {
    "name": "ipython",
    "version": 3
   },
   "file_extension": ".py",
   "mimetype": "text/x-python",
   "name": "python",
   "nbconvert_exporter": "python",
   "pygments_lexer": "ipython3",
   "version": "3.9.12"
  }
 },
 "nbformat": 4,
 "nbformat_minor": 5
}
